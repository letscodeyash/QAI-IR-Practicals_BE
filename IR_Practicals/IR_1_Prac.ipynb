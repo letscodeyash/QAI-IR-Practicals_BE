{
 "cells": [
  {
   "cell_type": "code",
   "execution_count": 6,
   "id": "b8b94b64",
   "metadata": {},
   "outputs": [
    {
     "name": "stdout",
     "output_type": "stream",
     "text": [
      "['Sppu', 'Practical', 'Exam', ',', '2024', 'is', 'starting', 'from', '15', 'to', '24']\n",
      "\n",
      "['Sppu Practical Exam, 2024 is starting from 15 to 24']\n"
     ]
    }
   ],
   "source": [
    "import nltk\n",
    "\n",
    "#Tokenization\n",
    "\n",
    "from nltk import word_tokenize, sent_tokenize\n",
    "sentence= \"Sppu Practical Exam, 2024 is starting from 15 to 24\"\n",
    "print(word_tokenize(sentence))\n",
    "print()\n",
    "print(sent_tokenize(sentence))"
   ]
  },
  {
   "cell_type": "code",
   "execution_count": 7,
   "id": "a3e65b5b",
   "metadata": {},
   "outputs": [
    {
     "name": "stdout",
     "output_type": "stream",
     "text": [
      "[('the', 'DT'), ('dogs', 'NNS'), ('are', 'VBP'), ('barking', 'VBG'), ('outside', 'IN'), ('.', '.')]\n"
     ]
    }
   ],
   "source": [
    "#POS_TAgging\n",
    "\n",
    "text = \"the dogs are barking outside.\"\n",
    "word = nltk.word_tokenize(text)\n",
    "pos_tag = nltk.pos_tag(word)\n",
    "print (pos_tag)"
   ]
  },
  {
   "cell_type": "code",
   "execution_count": 8,
   "id": "1054a05e",
   "metadata": {},
   "outputs": [
    {
     "name": "stdout",
     "output_type": "stream",
     "text": [
      "This is the unclean version: ['Sppu', 'Practical', 'Exam', ',', '2024', 'is', 'starting', 'from', '15', 'to', '24']\n",
      "This is the cleaned version: ['Sppu', 'Practical', 'Exam', ',', '2024', 'starting', '15', '24']\n"
     ]
    }
   ],
   "source": [
    "#Stop Word Removal\n",
    "\n",
    "from nltk.corpus import stopwords         \n",
    "                                         \n",
    "stop_words = stopwords.words('english')  \n",
    "\n",
    "token = word_tokenize(sentence)\n",
    "cleaned_token = []\n",
    "for word in token:\n",
    "    if word not in stop_words:\n",
    "        cleaned_token.append(word)\n",
    "print(\"This is the unclean version:\", token)\n",
    "print(\"This is the cleaned version:\", cleaned_token)\n"
   ]
  },
  {
   "cell_type": "code",
   "execution_count": 9,
   "id": "b33e89eb",
   "metadata": {},
   "outputs": [
    {
     "name": "stdout",
     "output_type": "stream",
     "text": [
      "Programmers  :  programm\n",
      "program  :  program\n",
      "with  :  with\n",
      "programming  :  program\n",
      "languages  :  languag\n"
     ]
    }
   ],
   "source": [
    "# Stemming\n",
    "\n",
    "from nltk.stem import PorterStemmer\n",
    "from nltk.tokenize import word_tokenize\n",
    "\n",
    "ps = PorterStemmer()\n",
    "\n",
    "sentence = \"Programmers program with programming languages\"\n",
    "words = word_tokenize(sentence)\n",
    "\n",
    "for w in words:\n",
    "    print(w, \" : \", ps.stem(w))"
   ]
  },
  {
   "cell_type": "code",
   "execution_count": 10,
   "id": "eb350442",
   "metadata": {},
   "outputs": [
    {
     "name": "stdout",
     "output_type": "stream",
     "text": [
      "rocks : rock\n",
      "corpora : corpus\n",
      "better : good\n"
     ]
    }
   ],
   "source": [
    "#Lemmitization\n",
    "\n",
    "from nltk.stem import WordNetLemmatizer\n",
    "\n",
    "lemmatizer = WordNetLemmatizer()\n",
    "\n",
    "print(\"rocks :\", lemmatizer.lemmatize(\"rocks\"))\n",
    "print(\"corpora :\", lemmatizer.lemmatize(\"corpora\"))\n",
    "\n",
    "# a denotes adjective in \"pos\"\n",
    "print(\"better :\", lemmatizer.lemmatize(\"better\", pos=\"a\"))\n"
   ]
  }
 ],
 "metadata": {
  "kernelspec": {
   "display_name": "Python 3 (ipykernel)",
   "language": "python",
   "name": "python3"
  },
  "language_info": {
   "codemirror_mode": {
    "name": "ipython",
    "version": 3
   },
   "file_extension": ".py",
   "mimetype": "text/x-python",
   "name": "python",
   "nbconvert_exporter": "python",
   "pygments_lexer": "ipython3",
   "version": "3.11.3"
  }
 },
 "nbformat": 4,
 "nbformat_minor": 5
}
